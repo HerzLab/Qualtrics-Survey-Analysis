{
  "metadata": {
    "kernelspec": {
      "name": "python",
      "display_name": "Python (Pyodide)",
      "language": "python"
    },
    "language_info": {
      "codemirror_mode": {
        "name": "python",
        "version": 3
      },
      "file_extension": ".py",
      "mimetype": "text/x-python",
      "name": "python",
      "nbconvert_exporter": "python",
      "pygments_lexer": "ipython3",
      "version": "3.8"
    }
  },
  "nbformat_minor": 5,
  "nbformat": 4,
  "cells": [
    {
      "id": "841c8f09-7d2e-4f0f-b211-14c7096c3090",
      "cell_type": "code",
      "source": "import pandas as pd\n#input your userID here between the quote marks. Make sure spaces, capitals, and all else is correct.\nvalue = '99'  \n#plug in the correct name of your csv file here. \n#First open the Csv to check that it worked. \n#If not, export the results as an excel, put it into sheets, and from there export it as a csv.\ndf = pd.read_csv('BAIDONE.csv')\n\n#this defines the getscore function as finding the location of the column, locating the value that you input, and finding the score in the same row as that value.\n#as long as the cells have values, the first score match is returned.\ndef getscore(input_value):\n    result = df.loc[df['Q1'] == input_value, 'SC0']\n    if not result.empty:\n        return result.iloc[0]  # returns the first match\n    else:\n        return 'no availible score' \n\nif (getscore(value)) == 'no availible score':\n    print ('Error. Check that id number is correct including capitals and spaces. Check that the correct Csv has been inputted.')\nelif int(getscore(value)) >35:\n    print (value)\n    print ('score =', getscore(value), ', potentially concerning levels of anxiety')\nelif 22<= int (getscore(value)) <=35:\n    print (value)\n    print ('score =', getscore(value), ', Moderate Anxiety')\nelif int (getscore(value)) <=21:\n    print (value)\n    print ('score =', getscore(value), ', low anxiety')\nelse:\n    print ('error')\n\nprint ('The scores can range from 0-63')",
      "metadata": {
        "trusted": true
      },
      "outputs": [
        {
          "name": "stdout",
          "output_type": "stream",
          "text": "99\nscore = 23 , Moderate Anxiety\nThe scores can range from 0-63\n"
        }
      ],
      "execution_count": 1
    },
    {
      "id": "6e1c9822-b0c8-4443-a25c-a5fc8872d9c3",
      "cell_type": "code",
      "source": "",
      "metadata": {
        "trusted": true
      },
      "outputs": [],
      "execution_count": null
    }
  ]
}