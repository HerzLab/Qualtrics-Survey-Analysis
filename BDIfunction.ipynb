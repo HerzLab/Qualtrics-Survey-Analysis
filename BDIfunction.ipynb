{
  "metadata": {
    "kernelspec": {
      "name": "python",
      "display_name": "Python (Pyodide)",
      "language": "python"
    },
    "language_info": {
      "codemirror_mode": {
        "name": "python",
        "version": 3
      },
      "file_extension": ".py",
      "mimetype": "text/x-python",
      "name": "python",
      "nbconvert_exporter": "python",
      "pygments_lexer": "ipython3",
      "version": "3.8"
    }
  },
  "nbformat_minor": 5,
  "nbformat": 4,
  "cells": [
    {
      "id": "28482483-354c-48d8-ae78-e6664c43aa7a",
      "cell_type": "code",
      "source": "import pandas as pd\n#input your userID here between the quote marks. Make sure spaces, capitals, and all else is correct.\nvalue = '12'  \n#plug in the correct name of your csv file here. \n#First open the Csv to check that it worked. \n#If not, export the results as an excel, put it into sheets, and from there export it as a csv.\ndf = pd.read_csv('BDI.csv')\n\n#this defines the getscore function as finding the location of the column, locating the value that you input, and finding the score in the same row as that value.\n#as long as the cells have values, the first score match is returned.\ndef getscore(input_value):\n    result = df.loc[df['QID4'] == input_value, 'SC0']\n    if not result.empty:\n        return result.iloc[0]  # returns the first match\n    else:\n        return 'no availible score' \n\nif (getscore(value)) == 'no availible score':\n    print ('Error. Check that id number is correct including capitals and spaces. Check that the correct Csv has been inputted.')\nelif int(getscore(value)) > 40:\n    print (value)\n    print ('score =', getscore(value), ', Extreme Depression')\nelif 31<= int (getscore(value)) <=40:\n    print (value)\n    print ('score =', getscore(value), ', Severe depression')\nelif 21<= int (getscore(value)) <=30:\n    print (value)\n    print ('score =', getscore(value), ', Moderate depression' )\nelif 17<= int (getscore(value)) <=20:\n    print (value)\n    print ('score =', getscore(value), ', Borderline Clinical depression')\nelif 11<= int (getscore(value)) <=16:\n    print (value)\n    print ('score =', getscore(value), ', Mild mood disturbance')\nelif int (getscore(value)) <=10:\n    print (value)\n    print ('score =', getscore(value), ', These ups and downs are considered normal')\nelse:\n    print ('error')\nprint ('The scores can range from 0-63') \n",
      "metadata": {
        "trusted": true
      },
      "outputs": [
        {
          "name": "stdout",
          "output_type": "stream",
          "text": "12\nscore = 27 , Moderate depression\nThe scores can range from 0-63\n"
        }
      ],
      "execution_count": 1
    },
    {
      "id": "9bbec9a0-eff3-4f19-b167-2fd5313a394c",
      "cell_type": "code",
      "source": "",
      "metadata": {
        "trusted": true
      },
      "outputs": [],
      "execution_count": null
    }
  ]
}