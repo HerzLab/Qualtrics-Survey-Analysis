{
  "metadata": {
    "kernelspec": {
      "name": "python",
      "display_name": "Python (Pyodide)",
      "language": "python"
    },
    "language_info": {
      "codemirror_mode": {
        "name": "python",
        "version": 3
      },
      "file_extension": ".py",
      "mimetype": "text/x-python",
      "name": "python",
      "nbconvert_exporter": "python",
      "pygments_lexer": "ipython3",
      "version": "3.8"
    }
  },
  "nbformat_minor": 5,
  "nbformat": 4,
  "cells": [
    {
      "id": "d6bcaf99-9cfa-49f6-bfe8-6050e59347e3",
      "cell_type": "code",
      "source": "import pandas as pd\nimport numbers \nimport sys\n#input your userID here between the quote marks. Make sure spaces, capitals, and all else is correct.\nvalue = 'M1013'\n#plug in the correct name of your csv file here. \n#First open the Csv to check that it worked. \n#If not, export the results as an excel, put it into sheets, and from there export it as a csv.\ndf = pd.read_csv('PTSD.csv')\n#turn the column with the names (column ' '), into a new data frame. This will come in use later after all values are turned into integers.\nnew_df=df[' ']\n#this defines the getscore function as finding the location of the column, locating the value that you input, and finding the score in the same row as that value.\n#as long as the cells have values, the first score match is returned.\ndef getscore(input_value):\n    result = df.loc[df[' '] == input_value , 'SC0']\n    if not result.empty:\n        return result.iloc[0]  \n    else:\n        return 'no availible score' \n        \nscore = getscore(value)\n\n    \nif (getscore(value)) == 'no availible score' or pd.isna(score):\n    print ('This patient did not score because they did not have criterion A (they did not experience a traumatic event). If you believe this is an error, check that id number is correct including capitals and spaces. Check that the correct Csv has been inputted.')\n    sys.exit()\nelif int(getscore(value)) >33:\n    print (value)\n    print ('score =', getscore(value), ', probable ptsd')\n    print ('Criterion A met')\nelif 31<= int (getscore(value)) <=33: \n    print (value)\n    print ('score =', getscore(value), ', possible ptsd')\n    print ('Criterion A met')\n\nelif int (getscore(value)) <=30:\n    print (value)\n    print ('score =', getscore(value), ', unlikely ptsd')\n    print ('Criterion A met')\nelse:\n    print ('error')\n\n#This line makes all values in the dataframe numeric, and if they are not they are made not applicable. \ndf = df.apply(pd.to_numeric, errors='coerce')\n\n#These define Criterion B-E as the score of the questions within them.\ndf['CRB'] = df['Q13_1'] + df['Q13_2'] + df['Q13_3'] + df['Q13_4'] + df['Q13_5'] - 5\ndf['CRC'] = df['Q13_6'] + df['Q13_7'] -2\ndf['CRD'] = df['Q13_8'] + df['Q13_9'] + df['Q13_10'] + df['Q13_11'] + df['Q13_12'] + df['Q13_13'] + df['Q13_14'] - 7\ndf['CRE'] = df['Q13_15'] + df['Q13_16'] + df['Q13_17'] + df['Q13_18'] + df['Q13_19'] + df['Q13_20'] - 6\n\n#these make a new column for the criteria that have the sums mentioned above when there are no non numerical values in their rows\ndf['CRB'] = df['CRB'].where(df['Q13_1'].notna() & df['Q13_2'].notna() & df['Q13_3'].notna() & df['Q13_4'].notna() & df['Q13_5'].notna(), 'NA')\ndf['CRC'] = df['CRC'].where(df['Q13_6'].notna() & df['Q13_7'].notna(), 'NA')\ndf['CRD'] = df['CRD'].where(df['Q13_8'].notna() & df['Q13_9'].notna() & df['Q13_10'].notna() & df['Q13_11'].notna() & df['Q13_12'].notna()& df['Q13_13'].notna() & df['Q13_14'].notna(), 'NA')\ndf['CRD'] = df['CRD'].where(df['Q13_15'].notna() & df['Q13_16'].notna() & df['Q13_17'].notna() & df['Q13_18'].notna() & df['Q13_19'].notna()& df['Q13_20'].notna(), 'NA')\ndf = df[['SC0', 'CRB', 'CRC', 'CRD', 'CRE']]\n\n#now, the data frame made out of the name column is renamed and entered \ndf['pt_name']=new_df\n\n#this defines the function as finding the location of the column, locating the value that you input, and finding the score in the same row as that value.\n#as long as the cells have values, the first score match is returned.\ndef crb(input_value):\n    result = df.loc[df[ 'pt_name'] == input_value , 'CRB']\n    if not result.empty:\n        return result.iloc[0]  \n    else:\n        return 'no availible score' \nif (crb(value)) >= 1:\n    print ('Criterion B met', ', score =', crb(value))\nelse:\n    print ('')\n    \ndef crc(input_value):\n    result = df.loc[df[ 'pt_name'] == input_value , 'CRC']\n    if not result.empty:\n        return result.iloc[0]  \n    else:\n        return 'no availible score' \nif (crc(value)) >= 1:\n    print ('Criterion C met', ', score =', crc(value))\n\nelse:\n    print ('')\n\ndef crd(input_value):\n    result = df.loc[df[ 'pt_name'] == input_value , 'CRD']\n    if not result.empty:\n        return result.iloc[0]  \n    else:\n        return 'no availible score' \nif (crd(value)) >= 2:\n    print ('Criterion D met', ', score =', crd(value))\n\nelse:\n    print ('')\n\ndef cre(input_value):\n    result = df.loc[df[ 'pt_name'] == input_value , 'CRE']\n    if not result.empty:\n        return result.iloc[0]  \n    else:\n        return 'no availible score' \nif (crd(value)) >= 2:\n    print ('Criterion E met', ', score =', cre(value))\n\nelse:\n    print ('')\n\nprint ('The score refers to what the patient got on the PCL-5 which asks patients to rate their symptoms, the highest possible score on this is 80. Criterion A checks if the patient experienced a traumatic event. Criterion B measures how often the patient has intrusive memories and the maximum score is 20. Criterion C measures how they avoid thinking about the memory and the maximum score is an 8. Criterion D measures how their mood is altered and has a maximum score of 28. Criterion E measures how their trauma affects their energy levels and has a maximum score of 24. Please remember that this score is only general and it is important to review their questionare and read their stories.') \n",
      "metadata": {
        "trusted": true
      },
      "outputs": [
        {
          "name": "stdout",
          "output_type": "stream",
          "text": "M1013\nscore = 51 , probable ptsd\nCriterion A met\nCriterion B met , score = 17.0\nCriterion C met , score = 4.0\nCriterion D met , score = 17.0\nCriterion E met , score = 13.0\nThe score refers to what the patient got on the PCL-5 which asks patients to rate their symptoms, the highest possible score on this is 80. Criterion A checks if the patient experienced a traumatic event. Criterion B measures how often the patient has intrusive memories and the maximum score is 20. Criterion C measures how they avoid thinking about the memory and the maximum score is an 8. Criterion D measures how their mood is altered and has a maximum score of 28. Criterion E measures how their trauma affects their energy levels and has a maximum score of 24. Please remember that this score is only general and it is important to review their questionare and read their stories.\n"
        }
      ],
      "execution_count": 8
    },
    {
      "id": "43b5d3de-b450-44b3-8cce-84e4491adae8",
      "cell_type": "code",
      "source": "getscore('1')",
      "metadata": {
        "trusted": true
      },
      "outputs": [
        {
          "execution_count": 58,
          "output_type": "execute_result",
          "data": {
            "text/plain": "nan"
          },
          "metadata": {}
        }
      ],
      "execution_count": 58
    },
    {
      "id": "b9ec8708-ed20-4593-9754-30d0e05099af",
      "cell_type": "code",
      "source": "df",
      "metadata": {
        "trusted": true
      },
      "outputs": [
        {
          "execution_count": 36,
          "output_type": "execute_result",
          "data": {
            "text/plain": "       StartDate        EndDate         Status       IPAddress  Progress  \\\n0     Start Date       End Date  Response Type      IP Address  Progress   \n1  6/24/25 13:19  6/24/25 13:20              1             NaN       100   \n2   6/25/25 8:33   6/25/25 8:42              0  147.140.233.15       100   \n3   6/25/25 8:44  6/25/25 12:43              0  147.140.233.15       100   \n\n   Duration (in seconds)  Finished   RecordedDate         ResponseId  \\\n0  Duration (in seconds)  Finished  Recorded Date        Response ID   \n1                     62         1  6/24/25 13:20  R_5oo5s8J3Aio37aN   \n2                    563         1   6/25/25 8:42  R_1PcgcXFze58K9ZT   \n3                  14334         1  6/25/25 12:43  R_6LMa3VThmL9HP7E   \n\n     RecipientLastName  ...  \\\n0  Recipient Last Name  ...   \n1                  NaN  ...   \n2                  NaN  ...   \n3                  NaN  ...   \n\n                                              Q13_12  \\\n0  Below is a list of problems that people someti...   \n1                                                  2   \n2                                                NaN   \n3                                                  2   \n\n                                              Q13_13  \\\n0  Below is a list of problems that people someti...   \n1                                                  3   \n2                                                NaN   \n3                                                  4   \n\n                                              Q13_14  \\\n0  Below is a list of problems that people someti...   \n1                                                  2   \n2                                                NaN   \n3                                                  1   \n\n                                              Q13_15  \\\n0  Below is a list of problems that people someti...   \n1                                                  3   \n2                                                NaN   \n3                                                  3   \n\n                                              Q13_16  \\\n0  Below is a list of problems that people someti...   \n1                                                  2   \n2                                                NaN   \n3                                                  2   \n\n                                              Q13_17  \\\n0  Below is a list of problems that people someti...   \n1                                                  3   \n2                                                NaN   \n3                                                  5   \n\n                                              Q13_18  \\\n0  Below is a list of problems that people someti...   \n1                                                  2   \n2                                                NaN   \n3                                                  1   \n\n                                              Q13_19  \\\n0  Below is a list of problems that people someti...   \n1                                                  3   \n2                                                NaN   \n3                                                  3   \n\n                                              Q13_20    SC0  \n0  Below is a list of problems that people someti...  Score  \n1                                                  2     30  \n2                                                NaN    NaN  \n3                                                  5     51  \n\n[4 rows x 66 columns]",
            "text/html": "<div>\n<style scoped>\n    .dataframe tbody tr th:only-of-type {\n        vertical-align: middle;\n    }\n\n    .dataframe tbody tr th {\n        vertical-align: top;\n    }\n\n    .dataframe thead th {\n        text-align: right;\n    }\n</style>\n<table border=\"1\" class=\"dataframe\">\n  <thead>\n    <tr style=\"text-align: right;\">\n      <th></th>\n      <th>StartDate</th>\n      <th>EndDate</th>\n      <th>Status</th>\n      <th>IPAddress</th>\n      <th>Progress</th>\n      <th>Duration (in seconds)</th>\n      <th>Finished</th>\n      <th>RecordedDate</th>\n      <th>ResponseId</th>\n      <th>RecipientLastName</th>\n      <th>...</th>\n      <th>Q13_12</th>\n      <th>Q13_13</th>\n      <th>Q13_14</th>\n      <th>Q13_15</th>\n      <th>Q13_16</th>\n      <th>Q13_17</th>\n      <th>Q13_18</th>\n      <th>Q13_19</th>\n      <th>Q13_20</th>\n      <th>SC0</th>\n    </tr>\n  </thead>\n  <tbody>\n    <tr>\n      <th>0</th>\n      <td>Start Date</td>\n      <td>End Date</td>\n      <td>Response Type</td>\n      <td>IP Address</td>\n      <td>Progress</td>\n      <td>Duration (in seconds)</td>\n      <td>Finished</td>\n      <td>Recorded Date</td>\n      <td>Response ID</td>\n      <td>Recipient Last Name</td>\n      <td>...</td>\n      <td>Below is a list of problems that people someti...</td>\n      <td>Below is a list of problems that people someti...</td>\n      <td>Below is a list of problems that people someti...</td>\n      <td>Below is a list of problems that people someti...</td>\n      <td>Below is a list of problems that people someti...</td>\n      <td>Below is a list of problems that people someti...</td>\n      <td>Below is a list of problems that people someti...</td>\n      <td>Below is a list of problems that people someti...</td>\n      <td>Below is a list of problems that people someti...</td>\n      <td>Score</td>\n    </tr>\n    <tr>\n      <th>1</th>\n      <td>6/24/25 13:19</td>\n      <td>6/24/25 13:20</td>\n      <td>1</td>\n      <td>NaN</td>\n      <td>100</td>\n      <td>62</td>\n      <td>1</td>\n      <td>6/24/25 13:20</td>\n      <td>R_5oo5s8J3Aio37aN</td>\n      <td>NaN</td>\n      <td>...</td>\n      <td>2</td>\n      <td>3</td>\n      <td>2</td>\n      <td>3</td>\n      <td>2</td>\n      <td>3</td>\n      <td>2</td>\n      <td>3</td>\n      <td>2</td>\n      <td>30</td>\n    </tr>\n    <tr>\n      <th>2</th>\n      <td>6/25/25 8:33</td>\n      <td>6/25/25 8:42</td>\n      <td>0</td>\n      <td>147.140.233.15</td>\n      <td>100</td>\n      <td>563</td>\n      <td>1</td>\n      <td>6/25/25 8:42</td>\n      <td>R_1PcgcXFze58K9ZT</td>\n      <td>NaN</td>\n      <td>...</td>\n      <td>NaN</td>\n      <td>NaN</td>\n      <td>NaN</td>\n      <td>NaN</td>\n      <td>NaN</td>\n      <td>NaN</td>\n      <td>NaN</td>\n      <td>NaN</td>\n      <td>NaN</td>\n      <td>NaN</td>\n    </tr>\n    <tr>\n      <th>3</th>\n      <td>6/25/25 8:44</td>\n      <td>6/25/25 12:43</td>\n      <td>0</td>\n      <td>147.140.233.15</td>\n      <td>100</td>\n      <td>14334</td>\n      <td>1</td>\n      <td>6/25/25 12:43</td>\n      <td>R_6LMa3VThmL9HP7E</td>\n      <td>NaN</td>\n      <td>...</td>\n      <td>2</td>\n      <td>4</td>\n      <td>1</td>\n      <td>3</td>\n      <td>2</td>\n      <td>5</td>\n      <td>1</td>\n      <td>3</td>\n      <td>5</td>\n      <td>51</td>\n    </tr>\n  </tbody>\n</table>\n<p>4 rows × 66 columns</p>\n</div>"
          },
          "metadata": {}
        }
      ],
      "execution_count": 36
    },
    {
      "id": "8302025c-dc71-4683-8ddc-0c4a0d5e29e9",
      "cell_type": "code",
      "source": "",
      "metadata": {
        "trusted": true
      },
      "outputs": [],
      "execution_count": null
    }
  ]
}