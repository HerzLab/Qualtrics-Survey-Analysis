{
  "metadata": {
    "kernelspec": {
      "name": "python",
      "display_name": "Python (Pyodide)",
      "language": "python"
    },
    "language_info": {
      "codemirror_mode": {
        "name": "python",
        "version": 3
      },
      "file_extension": ".py",
      "mimetype": "text/x-python",
      "name": "python",
      "nbconvert_exporter": "python",
      "pygments_lexer": "ipython3",
      "version": "3.8"
    }
  },
  "nbformat_minor": 5,
  "nbformat": 4,
  "cells": [
    {
      "id": "40f5c8b1-3dea-4e31-9213-271b8ab69335",
      "cell_type": "code",
      "source": "import pandas as pd\n#input your userID here between the quote marks. Make sure spaces, capitals, and all else is correct.\nvalue = '12'\n#plug in the correct name of your csv file here. \n#First open the Csv to check that it worked. \n#If not, export the results as an excel, put it into sheets, and from there export it as a csv.\ndf = pd.read_csv('IMQ.csv')\ndf.rename(columns ={' ': 'name'}, inplace =True)\n\n#this defines the getscore function as finding the location of the column, locating the value that you input, and finding the score in the same row as that value.\n#as long as the cells have values, the first score match is returned.\ndef getscore(input_value):\n    result = df.loc[df['name'] == input_value, 'SC0']\n    if not result.empty:\n        return result.iloc[0]  # returns the first match\n    else:\n        return 'no availible score' \n  \nif (getscore(value)) == 'no availible score':\n    print ('Error. Check that id number is correct including capitals and spaces. Check that the correct Csv has been inputted.')\nelif int(getscore(value)) >=5:\n    print (value)\n    print ('score =', getscore(value), ', probable ptsd, total scores can range from 0-15')\nelif int (getscore(value)) <=4:\n    print (value)\n    print ('score =', getscore(value), ', Unlikely ptsd, total scores can range from 0-15')\nelse:\n    print ('error')",
      "metadata": {
        "trusted": true
      },
      "outputs": [
        {
          "name": "stdout",
          "output_type": "stream",
          "text": "12\nscore = 5 , probable ptsd, total scores can range from 0-15\n"
        }
      ],
      "execution_count": 1
    },
    {
      "id": "d214fccd-6fe2-4e13-9818-1457cf780900",
      "cell_type": "code",
      "source": "",
      "metadata": {
        "trusted": true
      },
      "outputs": [],
      "execution_count": null
    }
  ]
}